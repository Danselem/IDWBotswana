{
 "cells": [
  {
   "cell_type": "code",
   "execution_count": 1,
   "metadata": {},
   "outputs": [],
   "source": [
    "import sys\n",
    "import glob\n",
    "import pickle\n",
    "import glob\n",
    "import numpy as np\n",
    "import matplotlib.cm as cm\n",
    "import matplotlib.pyplot as plt\n",
    "import scipy.stats as stats\n",
    "from scipy.spatial.distance import squareform\n",
    "from scipy.spatial.distance import pdist"
   ]
  },
  {
   "cell_type": "code",
   "execution_count": 2,
   "metadata": {},
   "outputs": [],
   "source": [
    "def load_obj(name ):\n",
    "    with open(name + '.pkl', 'rb') as f:\n",
    "        return pickle.load(f)"
   ]
  },
  {
   "cell_type": "code",
   "execution_count": 6,
   "metadata": {},
   "outputs": [],
   "source": [
    "def prepare_avgdata(all_data):\n",
    "    \n",
    "    all_features_avg=[]\n",
    "    all_artists=[]\n",
    "    \n",
    "    # Create lists of song names and features for each artist:\n",
    "    for artist in all_data: \n",
    "        \n",
    "        # load in the feature dictionary for the artist:\n",
    "        data=load_obj(artist.replace('.pkl',''))\n",
    "        print('loading {0}'.format(artist))\n",
    "        \n",
    "        songname=[] # will be a list of song names\n",
    "        songfeat=[] # will be a list of dictionaries containing the feature data\n",
    "        artists=[]  # will be a list of artists\n",
    "        \n",
    "        # extract out the features, song name and artist into separate lists:\n",
    "        for song in data: \n",
    "            songfeat.append(data[song]) \n",
    "            songname.append(song)\n",
    "        \n",
    "        # add artist into masterlist:\n",
    "        artists.append(artist.replace('_data.pkl','').replace('all_','').replace(path,''))\n",
    "\n",
    "        # make a list of the feature names:\n",
    "        feature_names=list(songfeat[0].keys()) \n",
    "        \n",
    "        # make a list all the feature values for this artist:\n",
    "        features=[] \n",
    "        for i in range(len(songfeat)):\n",
    "            features.append(list(songfeat[i].values()))\n",
    "            \n",
    "        # append the average feature values for this artist into a master list:\n",
    "        features_avg=np.mean(features, axis=0)\n",
    "        all_features_avg.append(features_avg)\n",
    "        \n",
    "        # append the artist name for this artist into a master list:\n",
    "        all_artists+=artists\n",
    "        \n",
    "    return all_features_avg, all_artists"
   ]
  },
  {
   "cell_type": "code",
   "execution_count": 9,
   "metadata": {},
   "outputs": [],
   "source": [
    "path='./hacknight/data_5band/'\n",
    "all_data=glob.glob(path+'/*.pkl')"
   ]
  },
  {
   "cell_type": "code",
   "execution_count": 10,
   "metadata": {},
   "outputs": [
    {
     "name": "stdout",
     "output_type": "stream",
     "text": [
      "loading ./hacknight/data_5band/all_TaylorSwift_data.pkl\n",
      "loading ./hacknight/data_5band/all_ImogenHeap_data.pkl\n",
      "loading ./hacknight/data_5band/all_TommyEmmanuel_data.pkl\n",
      "loading ./hacknight/data_5band/all_Zero7_data.pkl\n",
      "loading ./hacknight/data_5band/all_TheFlashbulb_data.pkl\n",
      "loading ./hacknight/data_5band/all_Xmas_data.pkl\n",
      "loading ./hacknight/data_5band/all_MichaelJackson_data.pkl\n",
      "loading ./hacknight/data_5band/all_REM_data.pkl\n",
      "loading ./hacknight/data_5band/all_FooFighters_data.pkl\n",
      "loading ./hacknight/data_5band/all_Classical_data.pkl\n",
      "loading ./hacknight/data_5band/all_PinkFloyd_data.pkl\n",
      "loading ./hacknight/data_5band/all_BoardsOfCanada_data.pkl\n",
      "loading ./hacknight/data_5band/all_AvrilLavigne_data.pkl\n"
     ]
    }
   ],
   "source": [
    "all_features_avg, all_artists = prepare_avgdata(all_data)"
   ]
  },
  {
   "cell_type": "code",
   "execution_count": 11,
   "metadata": {},
   "outputs": [
    {
     "name": "stdout",
     "output_type": "stream",
     "text": [
      "(13, 55)\n"
     ]
    }
   ],
   "source": [
    "print(np.shape(all_features_avg))\n",
    "dist=pdist(all_features_avg)\n",
    "dist_matrix=squareform(dist)"
   ]
  },
  {
   "cell_type": "code",
   "execution_count": 12,
   "metadata": {},
   "outputs": [
    {
     "data": {
      "image/png": "[encoded data removed]",
      "text/plain": [
       "<Figure size 720x720 with 2 Axes>"
      ]
     },
     "metadata": {
      "needs_background": "light"
     },
     "output_type": "display_data"
    }
   ],
   "source": [
    "fig=plt.figure(figsize=(10,10))\n",
    "ax=fig.add_subplot(111)\n",
    "x=range(0,len(all_artists))\n",
    "i=ax.imshow(dist_matrix, cmap='hot', interpolation='nearest')\n",
    "plt.xticks(x,all_artists,rotation='vertical')\n",
    "plt.yticks(x,all_artists)\n",
    "plt.tick_params(axis='both', which='major', labelsize=8)\n",
    "plt.tick_params(axis='both', which='minor', labelsize=8)\n",
    "fig.colorbar(i, orientation='vertical')\n",
    "plt.tight_layout()\n",
    "plt.savefig('Artist Similarity Matrix')\n",
    "plt.show()"
   ]
  },
  {
   "cell_type": "code",
   "execution_count": null,
   "metadata": {},
   "outputs": [],
   "source": []
  },
  {
   "cell_type": "code",
   "execution_count": null,
   "metadata": {},
   "outputs": [],
   "source": []
  },
  {
   "cell_type": "code",
   "execution_count": null,
   "metadata": {},
   "outputs": [],
   "source": []
  },
  {
   "cell_type": "code",
   "execution_count": null,
   "metadata": {},
   "outputs": [],
   "source": []
  },
  {
   "cell_type": "code",
   "execution_count": null,
   "metadata": {},
   "outputs": [],
   "source": []
  }
 ],
 "metadata": {
  "kernelspec": {
   "display_name": "Python 3",
   "language": "python",
   "name": "python3"
  },
  "language_info": {
   "codemirror_mode": {
    "name": "ipython",
    "version": 3
   },
   "file_extension": ".py",
   "mimetype": "text/x-python",
   "name": "python",
   "nbconvert_exporter": "python",
   "pygments_lexer": "ipython3",
   "version": "3.6.7"
  }
 },
 "nbformat": 4,
 "nbformat_minor": 2
}
